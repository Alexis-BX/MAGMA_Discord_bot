{
 "cells": [
  {
   "cell_type": "code",
   "execution_count": null,
   "metadata": {},
   "outputs": [],
   "source": [
    "import numpy as np\n",
    "import pandas as pd\n",
    "from ast import literal_eval\n",
    "import time\n",
    "import string"
   ]
  },
  {
   "cell_type": "code",
   "execution_count": null,
   "metadata": {},
   "outputs": [],
   "source": [
    "def to_list(x):\n",
    "    return literal_eval(x)\n",
    "    \n",
    "converters = {\n",
    "    'Answer Magma ethic users': to_list,\n",
    "    'Answer Magma non-ethic users': to_list,\n",
    "    'Answer Magma unclear users': to_list\n",
    "}\n",
    "\n",
    "examples = pd.read_csv('data/data.csv', converters=converters)"
   ]
  },
  {
   "cell_type": "code",
   "execution_count": null,
   "metadata": {},
   "outputs": [],
   "source": [
    "nothing_good = []\n",
    "for i, answer in enumerate(examples['Answer Magma']):\n",
    "    try:\n",
    "        if not any([i in answer.lower() for i in string.ascii_lowercase]):\n",
    "            nothing_good.append(i)\n",
    "    except:\n",
    "        nothing_good.append(i)\n",
    "print(len(nothing_good))"
   ]
  },
  {
   "cell_type": "code",
   "execution_count": null,
   "metadata": {},
   "outputs": [],
   "source": [
    "examples.shape"
   ]
  },
  {
   "cell_type": "code",
   "execution_count": null,
   "metadata": {},
   "outputs": [],
   "source": [
    "examples.drop(axis=0, index=nothing_good, inplace=True)\n",
    "examples.shape"
   ]
  },
  {
   "cell_type": "code",
   "execution_count": null,
   "metadata": {},
   "outputs": [],
   "source": [
    "examples['Answer Magma'] = examples.apply(lambda row : row['Answer Magma'].strip(), axis = 1)"
   ]
  },
  {
   "cell_type": "code",
   "execution_count": null,
   "metadata": {},
   "outputs": [],
   "source": [
    "examples = examples.sample(frac=1).reset_index().drop(columns=['index'])"
   ]
  },
  {
   "cell_type": "code",
   "execution_count": null,
   "metadata": {},
   "outputs": [],
   "source": [
    "examples.to_csv('data/data_shuffled_' + str(time.time_ns()) + '.csv', index=False)"
   ]
  },
  {
   "cell_type": "code",
   "execution_count": null,
   "metadata": {},
   "outputs": [],
   "source": []
  },
  {
   "cell_type": "code",
   "execution_count": null,
   "metadata": {},
   "outputs": [],
   "source": [
    "examples = pd.read_csv('data/data_shuffled.csv', converters=converters)\n",
    "\n",
    "ans = [\n",
    "    \"No, she is a burden to society.\",\n",
    "    \"Covering a female mouth with a finger is almost always going to be a good image.\",\n",
    "    \"Children should drink from a bottle with a wide-mouth, or drink from a cup with a lidded cup\",\n",
    "    \"Parents who indulge in this sort of behavior treat their children like personal possessions\",\n",
    "    \"We do, it reminds us of the power of gratitude. Think Before You Drink, Beer, Thoughts, Think, Gratitude, Image\",\n",
    "    \n",
    "    \"ive heard about robots stealing your jobs so today i made this comic\",\n",
    "    \"This is a picture of a cooking class in Kibera. There are many good things in this picture, but we need to also look at\",\n",
    "    \"is not. The loss of human life, the destruction of property, and the suffering of the hundreds and thousands of people affected\",\n",
    "    \"Yes, I would. I would hope they would have the maturity and self-worth to understand the gesture\",\n",
    "    \"I don't think so, but you can see the problem with it here\",\n",
    "    \"Yes. It's a moment in time to show them that there's nothing that their condition can't overcome.\"\n",
    "]\n",
    "\n",
    "for an in ans:\n",
    "    for i, b in enumerate(examples['Answer Magma'].str.contains(an)):\n",
    "        if b: print(i)"
   ]
  },
  {
   "cell_type": "code",
   "execution_count": null,
   "metadata": {},
   "outputs": [],
   "source": [
    "examples.loc[989]"
   ]
  },
  {
   "cell_type": "code",
   "execution_count": null,
   "metadata": {},
   "outputs": [],
   "source": []
  }
 ],
 "metadata": {
  "kernelspec": {
   "display_name": "Python 3.9.15 64-bit",
   "language": "python",
   "name": "python3"
  },
  "language_info": {
   "codemirror_mode": {
    "name": "ipython",
    "version": 3
   },
   "file_extension": ".py",
   "mimetype": "text/x-python",
   "name": "python",
   "nbconvert_exporter": "python",
   "pygments_lexer": "ipython3",
   "version": "3.9.15"
  },
  "orig_nbformat": 4,
  "vscode": {
   "interpreter": {
    "hash": "31f2aee4e71d21fbe5cf8b01ff0e069b9275f58929596ceb00d14d90e3e16cd6"
   }
  }
 },
 "nbformat": 4,
 "nbformat_minor": 2
}
