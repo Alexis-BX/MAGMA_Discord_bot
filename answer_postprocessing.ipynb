{
 "cells": [
  {
   "cell_type": "code",
   "execution_count": 15,
   "metadata": {},
   "outputs": [],
   "source": [
    "import pandas as pd\n",
    "from ast import literal_eval\n",
    "import time\n",
    "import string "
   ]
  },
  {
   "cell_type": "code",
   "execution_count": 30,
   "metadata": {},
   "outputs": [],
   "source": [
    "def to_list(x):\n",
    "    return literal_eval(x)\n",
    "    \n",
    "converters = {\n",
    "    'Answer Magma ethic users': to_list,\n",
    "    'Answer Magma non-ethic users': to_list,\n",
    "    'Answer Magma unclear users': to_list\n",
    "}\n",
    "\n",
    "examples = pd.read_csv('data/data.csv', converters=converters)"
   ]
  },
  {
   "cell_type": "code",
   "execution_count": 35,
   "metadata": {},
   "outputs": [
    {
     "name": "stdout",
     "output_type": "stream",
     "text": [
      "0\n"
     ]
    }
   ],
   "source": [
    "nothing_good = []\n",
    "for i, answer in enumerate(examples['Answer Magma']):\n",
    "    try:\n",
    "        if not any([i in answer.lower() for i in string.ascii_lowercase]):\n",
    "            nothing_good.append(i)\n",
    "    except:\n",
    "        nothing_good.append(i)\n",
    "print(len(nothing_good))"
   ]
  },
  {
   "cell_type": "code",
   "execution_count": 33,
   "metadata": {},
   "outputs": [
    {
     "data": {
      "text/plain": [
       "(2482, 13)"
      ]
     },
     "execution_count": 33,
     "metadata": {},
     "output_type": "execute_result"
    }
   ],
   "source": [
    "examples.shape"
   ]
  },
  {
   "cell_type": "code",
   "execution_count": 34,
   "metadata": {},
   "outputs": [
    {
     "data": {
      "text/plain": [
       "(1924, 13)"
      ]
     },
     "execution_count": 34,
     "metadata": {},
     "output_type": "execute_result"
    }
   ],
   "source": [
    "examples.drop(axis=0, index=nothing_good, inplace=True)\n",
    "examples.shape"
   ]
  },
  {
   "cell_type": "code",
   "execution_count": 39,
   "metadata": {},
   "outputs": [],
   "source": [
    "examples['Answer Magma'] = examples.apply(lambda row : row['Answer Magma'].strip(), axis = 1)"
   ]
  },
  {
   "cell_type": "code",
   "execution_count": 40,
   "metadata": {},
   "outputs": [],
   "source": [
    "examples.to_csv('data/data_' + str(time.time_ns()) + '.csv', index=False)"
   ]
  },
  {
   "cell_type": "code",
   "execution_count": null,
   "metadata": {},
   "outputs": [],
   "source": []
  }
 ],
 "metadata": {
  "language_info": {
   "name": "python"
  },
  "orig_nbformat": 4
 },
 "nbformat": 4,
 "nbformat_minor": 2
}
